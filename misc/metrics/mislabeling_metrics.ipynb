{
 "cells": [
  {
   "cell_type": "code",
   "execution_count": 1,
   "id": "b84cb056",
   "metadata": {},
   "outputs": [],
   "source": [
    "import open_clip\n",
    "import torch\n",
    "from PIL import Image\n",
    "\n",
    "device = \"cuda\" if torch.cuda.is_available() else \"cpu\"\n",
    "dtype = torch.float16\n",
    "\n",
    "# clip model\n",
    "clip_model, _, clip_preprocess = open_clip.create_model_and_transforms(\n",
    "    \"MobileCLIP-B\", pretrained=\"datacompdr\", precision=\"fp16\", device=\"cuda\"\n",
    ")\n",
    "clip_model.eval()  # model in train mode by default, impacts some models with BatchNorm or stochastic depth active\n",
    "clip_tokenizer = open_clip.get_tokenizer(\"MobileCLIP-B\")\n",
    "\n",
    "def image_text_sim(model, preprocess, tokenizer, img, text):\n",
    "    image = preprocess(img).unsqueeze(0).to(device, dtype)\n",
    "    text = tokenizer([text]).to(device)\n",
    "\n",
    "    with torch.no_grad():\n",
    "        image_features = model.encode_image(image)\n",
    "        text_features = model.encode_text(text)\n",
    "        image_features /= image_features.norm(dim=-1, keepdim=True)\n",
    "        text_features /= text_features.norm(dim=-1, keepdim=True)\n",
    "\n",
    "        text_probs = 100.0 * image_features @ text_features.T\n",
    "\n",
    "    return text_probs.item()"
   ]
  },
  {
   "cell_type": "markdown",
   "id": "3cda11ad",
   "metadata": {},
   "source": [
    "## Mislabel Rate\n",
    "\n",
    "This is a binary metric (yes mislabeled, or no not mislabeled) and should be averaged across many images to get a \"rate\" between 0 and 1. Here, we show the 1 image case."
   ]
  },
  {
   "cell_type": "code",
   "execution_count": 2,
   "id": "123b717f",
   "metadata": {},
   "outputs": [],
   "source": [
    "import spacy\n",
    "from nltk.stem import WordNetLemmatizer\n",
    "\n",
    "def get_concepts(generated_caption):\n",
    "    # Load nlp modules for early stopping\n",
    "    lemmatizer = WordNetLemmatizer()\n",
    "    nlp = spacy.load(\"en_core_web_sm\")\n",
    "\n",
    "    # Obtain set of candidate concepts\n",
    "    doc = nlp(generated_caption)\n",
    "    # Extract nouns\n",
    "    identified_nouns = set(\n",
    "        [token.text for token in doc if token.pos_ in {\"NOUN\", \"PROPN\"}]\n",
    "    )\n",
    "    return set([lemmatizer.lemmatize(x.lower()) for x in identified_nouns])\n",
    "\n",
    "def get_top_n_concepts(\n",
    "    img, concepts, clip_preprocess, clip_tokenizer, clip_model, n=3\n",
    "):\n",
    "    sims = [\n",
    "        (\n",
    "            concept,\n",
    "            image_text_sim(\n",
    "                clip_model, clip_preprocess, clip_tokenizer, img, concept\n",
    "            ),\n",
    "        )\n",
    "        for concept in concepts\n",
    "    ]\n",
    "    top_n_concepts = sorted(sims, reverse=True, key=lambda x: x[1])[:n]\n",
    "\n",
    "    return set([x[0] for x in top_n_concepts])\n",
    "\n",
    "# this is the caption and concepts for the adversarially perturbed image\n",
    "adv_caption = \"a picturesque cobblestone street in a quaint town, with white-washed buildings showcasing traditional architecture, a couple walking hand in hand, and a signboard with text in a foreign language.\"\n",
    "adv_concepts = get_concepts(adv_caption)\n",
    "\n",
    "# this is the caption and concepts for the original image\n",
    "original_caption = \"a small bird with a yellow head and striped brown body stands on a dark surface, surrounded by green foliage.\"\n",
    "original_concepts = get_concepts(original_caption)\n",
    "original_img = Image.open(\"../clean.png\")\n",
    "top_original_concepts = get_top_n_concepts(original_img, original_concepts, clip_preprocess, clip_tokenizer, clip_model)\n",
    "\n",
    "# this is the caption and concepts for the target image\n",
    "target_concept = \"street\"\n",
    "target_caption = \"a picturesque cobblestone street in a historic town, with white-washed buildings, wooden balconies, and a backdrop of a hilly landscape.\"\n",
    "target_concepts = get_concepts(target_caption)\n",
    "target_img = Image.open(\"../target.png\")\n",
    "\n",
    "# clip scores, for checking semantic difference\n",
    "clip_sim_original = image_text_sim(clip_model, clip_preprocess, clip_tokenizer, original_img, adv_caption)\n",
    "clip_sim_target = image_text_sim(clip_model, clip_preprocess, clip_tokenizer, target_img, adv_caption)\n",
    "\n",
    "# get top concepts that ONLY appear in the original image\n",
    "# this prevents concepts that appear in both original and target from causing us to think image is not mislabeled\n",
    "top_original_only_concepts = top_original_concepts - target_concepts"
   ]
  },
  {
   "cell_type": "code",
   "execution_count": 3,
   "id": "69e29841",
   "metadata": {},
   "outputs": [
    {
     "name": "stdout",
     "output_type": "stream",
     "text": [
      "Image is mislabeled\n"
     ]
    }
   ],
   "source": [
    "is_mislabeled = (\n",
    "    all([original_concept not in adv_concepts for original_concept in top_original_only_concepts])\n",
    "    and target_concept in adv_concepts\n",
    "    and clip_sim_target > clip_sim_original\n",
    ")\n",
    "if is_mislabeled:\n",
    "    print(\"Image is mislabeled\")\n",
    "else:\n",
    "    print(\"Image is not mislabeled\")"
   ]
  },
  {
   "cell_type": "markdown",
   "id": "af1d0868",
   "metadata": {},
   "source": [
    "## AAR and BAR\n",
    "\n",
    "This measures how \"tightly\" the image is mislabeled to the target image. Again, this value should be averaged across multiple images. Here, we show the 1 image case."
   ]
  },
  {
   "cell_type": "code",
   "execution_count": 4,
   "id": "40ca47c3",
   "metadata": {},
   "outputs": [],
   "source": [
    "# this is the caption for the adversarially perturbed image\n",
    "adv_caption = \"a picturesque cobblestone street in a quaint town, with white-washed buildings showcasing traditional architecture, a couple walking hand in hand, and a signboard with text in a foreign language.\"\n",
    "\n",
    "# captions for images w/o perturbations\n",
    "original_caption = \"a small bird with a yellow head and striped brown body stands on a dark surface, surrounded by green foliage.\"\n",
    "original_img = Image.open(\"../clean.png\")\n",
    "\n",
    "target_caption = \"a picturesque cobblestone street in a historic town, with white-washed buildings, wooden balconies, and a backdrop of a hilly landscape.\"\n",
    "target_img = Image.open(\"../target.png\")\n",
    "\n",
    "# clip scores for adversarial caption\n",
    "clip_adv_original = image_text_sim(clip_model, clip_preprocess, clip_tokenizer, original_img, adv_caption)\n",
    "clip_adv_target = image_text_sim(clip_model, clip_preprocess, clip_tokenizer, target_img, adv_caption)\n",
    "\n",
    "# clip scores for original and target captions (denominator)\n",
    "clip_original = image_text_sim(clip_model, clip_preprocess, clip_tokenizer, original_img, original_caption)\n",
    "clip_target = image_text_sim(clip_model, clip_preprocess, clip_tokenizer, target_img, target_caption)"
   ]
  },
  {
   "cell_type": "code",
   "execution_count": 5,
   "id": "515d2e86",
   "metadata": {},
   "outputs": [
    {
     "name": "stdout",
     "output_type": "stream",
     "text": [
      "AAR: 1.00\n",
      "BAR: 0.00\n"
     ]
    }
   ],
   "source": [
    "# sometimes these values will overflow beyond 0 and 1, so we clamp\n",
    "aar = torch.clamp(\n",
    "    torch.tensor(clip_adv_target / clip_target), \n",
    "    0, 1\n",
    ").item()\n",
    "bar = torch.clamp(\n",
    "    torch.tensor(clip_adv_original / clip_original), \n",
    "    0, 1\n",
    ").item()\n",
    "\n",
    "print(f\"AAR: {aar:.2f}\")\n",
    "print(f\"BAR: {bar:.2f}\")"
   ]
  }
 ],
 "metadata": {
  "kernelspec": {
   "display_name": "amp-misc-3.10.13",
   "language": "python",
   "name": "python3"
  },
  "language_info": {
   "codemirror_mode": {
    "name": "ipython",
    "version": 3
   },
   "file_extension": ".py",
   "mimetype": "text/x-python",
   "name": "python",
   "nbconvert_exporter": "python",
   "pygments_lexer": "ipython3",
   "version": "3.10.13"
  }
 },
 "nbformat": 4,
 "nbformat_minor": 5
}
