{
 "cells": [
  {
   "cell_type": "code",
   "execution_count": 1,
   "id": "b765fd7e",
   "metadata": {},
   "outputs": [],
   "source": [
    "import os\n",
    "\n",
    "import open_clip\n",
    "import spacy\n",
    "import torch\n",
    "\n",
    "from PIL import Image\n",
    "from nltk.stem import WordNetLemmatizer\n",
    "\n",
    "device = \"cuda\" if torch.cuda.is_available() else \"cpu\"\n",
    "dtype = torch.float16\n",
    "\n",
    "# Loading EVA clip 2\n",
    "clip_model, _, clip_preprocess = open_clip.create_model_and_transforms(\n",
    "    \"EVA02-E-14-plus\",\n",
    "    pretrained=\"laion2b_s9b_b144k\",\n",
    "    precision=\"fp16\",\n",
    "    device=device,\n",
    ")\n",
    "clip_model.eval()  # model in train mode by default, impacts some models with BatchNorm or stochastic depth active\n",
    "clip_tokenizer = open_clip.get_tokenizer(\"EVA02-E-14-plus\")\n",
    "\n",
    "# Initialize the lemmatizer\n",
    "lemmatizer = WordNetLemmatizer()\n",
    "# Load the spaCy English model\n",
    "nlp = spacy.load(\"en_core_web_sm\")"
   ]
  },
  {
   "cell_type": "code",
   "execution_count": 2,
   "id": "523cc822",
   "metadata": {},
   "outputs": [],
   "source": [
    "img = Image.open(\"../clean.png\").convert(\"RGB\")\n",
    "caption = \"a small bird with yellow and brown plumage stands on a metal surface, with green foliage in the background.\"\n",
    "\n",
    "doc = nlp(caption)\n",
    "# Extract nouns\n",
    "identified_nouns = set(\n",
    "    [token.text for token in doc if token.pos_ in {\"NOUN\", \"PROPN\"}]\n",
    ")\n",
    "# Lemmatize\n",
    "concept_list = set([lemmatizer.lemmatize(x.lower()) for x in identified_nouns])"
   ]
  },
  {
   "cell_type": "code",
   "execution_count": 3,
   "id": "4e4ef3a4",
   "metadata": {},
   "outputs": [],
   "source": [
    "image = clip_preprocess(img).unsqueeze(0).to(device, dtype)\n",
    "text = clip_tokenizer(concept_list).to(device)\n",
    "\n",
    "# Compute features\n",
    "image_features = clip_model.encode_image(image)\n",
    "text_features = clip_model.encode_text(text)\n",
    "image_features /= image_features.norm(dim=-1, keepdim=True)\n",
    "text_features /= text_features.norm(dim=-1, keepdim=True)\n",
    "\n",
    "# Convert to probabilities\n",
    "text_probs = (100.0 * image_features @ text_features.T).softmax(dim=-1)\n",
    "\n",
    "# top 5 concepts and their probabilities\n",
    "top_concepts = sorted(\n",
    "    [\n",
    "        {\"concept\": concept, \"prob\": prob.item()}\n",
    "        for concept, prob in zip(concept_list, text_probs[0])\n",
    "    ],\n",
    "    key=lambda x: x[\"prob\"],\n",
    "    reverse=True,\n",
    ")[:5]"
   ]
  },
  {
   "cell_type": "code",
   "execution_count": 4,
   "id": "e09c3756",
   "metadata": {},
   "outputs": [
    {
     "name": "stdout",
     "output_type": "stream",
     "text": [
      "[{'concept': 'bird', 'prob': 0.9951171875},\n",
      " {'concept': 'metal', 'prob': 0.0038204193115234375},\n",
      " {'concept': 'plumage', 'prob': 0.001129150390625},\n",
      " {'concept': 'background', 'prob': 3.409385681152344e-05},\n",
      " {'concept': 'foliage', 'prob': 2.574920654296875e-05}]\n",
      "Top concept: bird\n"
     ]
    }
   ],
   "source": [
    "import pprint\n",
    "\n",
    "pprint.pprint(top_concepts)\n",
    "print(f\"Top concept: {top_concepts[0]['concept']}\")"
   ]
  }
 ],
 "metadata": {
  "kernelspec": {
   "display_name": "amp-misc-3.10.13",
   "language": "python",
   "name": "python3"
  },
  "language_info": {
   "codemirror_mode": {
    "name": "ipython",
    "version": 3
   },
   "file_extension": ".py",
   "mimetype": "text/x-python",
   "name": "python",
   "nbconvert_exporter": "python",
   "pygments_lexer": "ipython3",
   "version": "3.10.13"
  }
 },
 "nbformat": 4,
 "nbformat_minor": 5
}
