{
 "cells": [
  {
   "cell_type": "code",
   "execution_count": null,
   "id": "ef5ac002",
   "metadata": {},
   "outputs": [],
   "source": [
    "import os\n",
    "os.environ[\"CUDA_VISIBLE_DEVICES\"] = \"0\"\n",
    "\n",
    "import torch\n",
    "from PIL import Image\n",
    "from transformers import AutoProcessor, LlavaForConditionalGeneration\n",
    "\n",
    "def get_caption(img, llava_model, llava_processor, query=\"\"):\n",
    "    prompt = f\"USER: <image>\\n{query}\\nASSISTANT:\"\n",
    "    inputs = llava_processor(text=prompt, images=img, return_tensors=\"pt\").to(\n",
    "        \"cuda\"\n",
    "    )\n",
    "\n",
    "    with torch.no_grad():\n",
    "        # Generate\n",
    "        generate_ids = llava_model.generate(**inputs, max_new_tokens=77)\n",
    "        caption = llava_processor.batch_decode(\n",
    "            generate_ids,\n",
    "            skip_special_tokens=True,\n",
    "            clean_up_tokenization_spaces=False,\n",
    "        )[0]\n",
    "\n",
    "        start_token = \"ASSISTANT:\"\n",
    "        idx_to_start = caption.find(start_token)\n",
    "        return caption[idx_to_start + len(start_token) :]\n",
    "\n",
    "# model setup\n",
    "dtype = torch.float16\n",
    "model_id = \"llava-hf/llava-1.5-7b-hf\"\n",
    "llava_model = LlavaForConditionalGeneration.from_pretrained(\n",
    "    model_id,\n",
    "    torch_dtype=dtype,\n",
    "    low_cpu_mem_usage=True,\n",
    ").cuda()\n",
    "llava_processor = AutoProcessor.from_pretrained(model_id)"
   ]
  },
  {
   "cell_type": "code",
   "execution_count": null,
   "id": "e25a7841",
   "metadata": {},
   "outputs": [],
   "source": [
    "img = Image.open(\"./amp-llava.png\")\n",
    "caption = get_caption(img, llava_model, llava_processor, query=\"Describe the image in 20 words or less\")\n",
    "print(caption)\n",
    "display(img)"
   ]
  }
 ],
 "metadata": {
  "kernelspec": {
   "display_name": "amp-llava-3.10.13",
   "language": "python",
   "name": "python3"
  },
  "language_info": {
   "codemirror_mode": {
    "name": "ipython",
    "version": 3
   },
   "file_extension": ".py",
   "mimetype": "text/x-python",
   "name": "python",
   "nbconvert_exporter": "python",
   "pygments_lexer": "ipython3",
   "version": "3.10.13"
  }
 },
 "nbformat": 4,
 "nbformat_minor": 5
}
