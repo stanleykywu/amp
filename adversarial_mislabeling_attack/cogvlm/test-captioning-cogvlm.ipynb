{
 "cells": [
  {
   "cell_type": "code",
   "execution_count": null,
   "id": "ef5ac002",
   "metadata": {},
   "outputs": [],
   "source": [
    "import os\n",
    "os.environ[\"CUDA_VISIBLE_DEVICES\"] = \"0\"\n",
    "\n",
    "import torch\n",
    "from PIL import Image\n",
    "from transformers import AutoModelForCausalLM, LlamaTokenizer\n",
    "\n",
    "def get_caption(img, cogvlm_model, cogvlm_tokenizer, query=\"\"):\n",
    "    inputs = cogvlm_model.build_conversation_input_ids(\n",
    "        cogvlm_tokenizer,\n",
    "        query=query,\n",
    "        images=[img],\n",
    "    )\n",
    "    inputs = {\n",
    "        \"input_ids\": inputs[\"input_ids\"].unsqueeze(0).to(\"cuda\"),\n",
    "        \"token_type_ids\": inputs[\"token_type_ids\"].unsqueeze(0).to(\"cuda\"),\n",
    "        \"attention_mask\": inputs[\"attention_mask\"].unsqueeze(0).to(\"cuda\"),\n",
    "        \"images\": [[inputs[\"images\"][0].to(\"cuda\").to(torch.bfloat16)]],\n",
    "    }\n",
    "    gen_kwargs = {\"max_new_tokens\": 77, \"do_sample\": False}\n",
    "\n",
    "    with torch.no_grad():\n",
    "        outputs = cogvlm_model.generate(**inputs, **gen_kwargs)\n",
    "        outputs = outputs[:, inputs[\"input_ids\"].shape[1] :]\n",
    "        caption = cogvlm_tokenizer.decode(outputs[0])\n",
    "\n",
    "    caption = caption.replace(cogvlm_tokenizer.eos_token, \"\")\n",
    "    return caption\n",
    "\n",
    "# model setup\n",
    "dtype = torch.bfloat16\n",
    "cogvlm_model = (\n",
    "    AutoModelForCausalLM.from_pretrained(\n",
    "        \"THUDM/cogvlm-chat-hf\",\n",
    "        torch_dtype=dtype,\n",
    "        low_cpu_mem_usage=True,\n",
    "        trust_remote_code=True,\n",
    "    )\n",
    "    .eval()\n",
    "    .cuda()\n",
    ")\n",
    "tokenizer = LlamaTokenizer.from_pretrained(\"lmsys/vicuna-7b-v1.5\")"
   ]
  },
  {
   "cell_type": "code",
   "execution_count": null,
   "id": "b92cd39f",
   "metadata": {},
   "outputs": [],
   "source": [
    "img = Image.open(\"./amp-cogvlm.png\")\n",
    "caption = get_caption(img, cogvlm_model, tokenizer, query=\"Describe the image in 20 words or less\")\n",
    "print(caption)\n",
    "display(img)"
   ]
  }
 ],
 "metadata": {
  "kernelspec": {
   "display_name": "amp-cogvlm-3.10.13",
   "language": "python",
   "name": "python3"
  },
  "language_info": {
   "codemirror_mode": {
    "name": "ipython",
    "version": 3
   },
   "file_extension": ".py",
   "mimetype": "text/x-python",
   "name": "python",
   "nbconvert_exporter": "python",
   "pygments_lexer": "ipython3",
   "version": "3.10.13"
  }
 },
 "nbformat": 4,
 "nbformat_minor": 5
}
